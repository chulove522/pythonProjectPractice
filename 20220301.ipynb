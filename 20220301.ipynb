{
 "cells": [
  {
   "cell_type": "code",
   "execution_count": 6,
   "metadata": {},
   "outputs": [
    {
     "name": "stdout",
     "output_type": "stream",
     "text": [
      "5\n",
      "-1\n",
      "6\n",
      "5.0\n",
      "9\n",
      "2\n"
     ]
    }
   ],
   "source": [
    "print(2 + 3)\n",
    "print(2 - 3)\n",
    "print(2 * 3)\n",
    "print(10 / 2)\n",
    "print(3 ** 2) # R 語言使用 3 ^ 2\n",
    "print(10 % 4) # R 語言使用 10 %% 4"
   ]
  },
  {
   "cell_type": "code",
   "execution_count": 9,
   "metadata": {
    "scrolled": true
   },
   "outputs": [
    {
     "name": "stdout",
     "output_type": "stream",
     "text": [
      "<class 'int'>\n",
      "<class 'float'>\n",
      "<class 'complex'>\n",
      "<class 'bool'>\n",
      "True\n",
      "True\n",
      "2.2\n",
      "5\n"
     ]
    }
   ],
   "source": [
    "print(type(5)) # <class 'int'>\n",
    "print(type(5.5)) # <class 'float'>\n",
    "print(type(5 + 3j)) # <class 'complex'>\n",
    "print(type(True)) # <class 'bool'>\n",
    "print(1.0 == True) # True\n",
    "print(0 == False) # True\n",
    "print(1.2 + True) # 2.2\n",
    "print(3 + True * 2) # 5\n"
   ]
  },
  {
   "cell_type": "code",
   "execution_count": 11,
   "metadata": {},
   "outputs": [
    {
     "name": "stdout",
     "output_type": "stream",
     "text": [
      "<class 'bool'>\n",
      "1.0\n",
      "1\n",
      "(1+0j)\n",
      "<class 'str'>\n"
     ]
    }
   ],
   "source": [
    "my_bool = True\n",
    "print(type(my_bool)) #<class 'bool'>\n",
    "print(float(my_bool)) # 1.0\n",
    "print(int(my_bool)) # 1\n",
    "print(complex(my_bool)) # 1+0j\n",
    "print(type(str(my_bool))) #<class 'str'>\n"
   ]
  },
  {
   "cell_type": "code",
   "execution_count": 17,
   "metadata": {},
   "outputs": [
    {
     "name": "stdout",
     "output_type": "stream",
     "text": [
      "<class 'str'>\n",
      "<class 'float'>\n",
      "<class 'bool'>\n",
      "['Big Data', 4.0, True]\n"
     ]
    }
   ],
   "source": [
    "participated_group = \"Big Data\" \n",
    "current_ttl_articles = 4\n",
    "current_ttl_articles =(float(current_ttl_articles))\n",
    "\n",
    "is_participating = True \n",
    "my_status = [participated_group, current_ttl_articles, \n",
    "is_participating] \n",
    "print(type(my_status[0])) \n",
    "print(type(my_status[1])) \n",
    "print(type(my_status[2]))\n",
    "print(my_status)\n"
   ]
  },
  {
   "cell_type": "code",
   "execution_count": 20,
   "metadata": {},
   "outputs": [
    {
     "name": "stdout",
     "output_type": "stream",
     "text": [
      "FireDragon\n",
      "4\n",
      "True\n"
     ]
    }
   ],
   "source": [
    "groupName = \"FireDragon\" \n",
    "members = 4 \n",
    "is_participating = True \n",
    "# 建立 dictionary\n",
    "my_status = { \"group\": groupName, \"memberCount\": \n",
    "members, \"is_participating\": is_participating } \n",
    "# 利用鍵值選擇元素\n",
    "print(my_status[\"group\"]) \n",
    "print(my_status[\"memberCount\"]) \n",
    "print(my_status[\"is_participating\"])\n"
   ]
  },
  {
   "cell_type": "code",
   "execution_count": 28,
   "metadata": {},
   "outputs": [
    {
     "name": "stdout",
     "output_type": "stream",
     "text": [
      "外觀= [46  8 11 11  4 56]\n",
      "<class 'numpy.ndarray'>\n",
      "[1380  240  330  330  120 1680]\n"
     ]
    }
   ],
   "source": [
    "import numpy # 引用套件\n",
    "ironmen = numpy.array([46, 8, 11, 11, 4, 56]) # 將 list 透過numpy 的 array 方法進行轉換\n",
    "print(\"外觀=\",ironmen) # 看看 ironmen 的外觀\n",
    "print(type(ironmen)) # 看看 ironmen 的資料結構\n",
    "articles = ironmen * 30\n",
    "\n",
    "print(articles)\n"
   ]
  },
  {
   "cell_type": "code",
   "execution_count": 44,
   "metadata": {},
   "outputs": [
    {
     "name": "stdout",
     "output_type": "stream",
     "text": [
      "int32\n",
      "<U11\n",
      "<class 'list'>\n",
      "[[1 1]\n",
      " [0 0]]\n",
      "[['1' 'True']\n",
      " ['zero' 'False']]\n"
     ]
    }
   ],
   "source": [
    "import numpy as np\n",
    "\n",
    "npArray=np.array([1,True])\n",
    "print(npArray.dtype)\n",
    "\n",
    "npArr2=np.array([1,'hello',False])\n",
    "print(npArr2.dtype)\n",
    "\n",
    "arr=[1,True,False,'hello']\n",
    "print(type(arr))\n",
    "\n",
    "my_2d_array = np.array([[1, True],\n",
    "[0, False]])\n",
    "print(my_2d_array)\n",
    "\n",
    "my_2d_array = np.array([[1, True],\n",
    "[\"zero\", False]])\n",
    "print(my_2d_array)\n"
   ]
  },
  {
   "cell_type": "code",
   "execution_count": 45,
   "metadata": {},
   "outputs": [
    {
     "name": "stdout",
     "output_type": "stream",
     "text": [
      "[ 1  4  9 16]\n",
      "[[ 1  9]\n",
      " [ 4 16]]\n"
     ]
    }
   ],
   "source": [
    "my_np_array = np.array([1, 2, 3, 4])\n",
    "print(my_np_array ** 2)\n",
    "my_2d_array = np.array([[1, 3],\n",
    "[2, 4]])\n",
    "print(my_2d_array ** 2)\n"
   ]
  },
  {
   "cell_type": "code",
   "execution_count": 46,
   "metadata": {},
   "outputs": [
    {
     "name": "stdout",
     "output_type": "stream",
     "text": [
      "46\n",
      "[ True False  True  True False  True]\n",
      "[46 11 11 56]\n"
     ]
    }
   ],
   "source": [
    "ironmen = np.array([46, 8, 11, 11, 4, 56])\n",
    "print(ironmen[0]) # 選出 Modern Web 組的鐵人數\n",
    "print(ironmen > 10) # 哪幾組的鐵人數超過 10 人\n",
    "print(ironmen[ironmen > 10]) # 超過 10 人的鐵人數"
   ]
  },
  {
   "cell_type": "code",
   "execution_count": 47,
   "metadata": {},
   "outputs": [
    {
     "name": "stdout",
     "output_type": "stream",
     "text": [
      "6\n",
      "(2, 3)\n"
     ]
    }
   ],
   "source": [
    "ironmen_2d_array = np.array([[46, 11, 4],\n",
    "[8, 11, 56]])\n",
    "print(ironmen_2d_array.size) # 6\n",
    "print(ironmen_2d_array.shape) # (2, 3)\n"
   ]
  },
  {
   "cell_type": "code",
   "execution_count": 65,
   "metadata": {},
   "outputs": [
    {
     "name": "stdout",
     "output_type": "stream",
     "text": [
      "{'groups': ['Modern Web', 'DevOps', 'Cloud', 'Big Data', 'Security', '自我挑戰組'], 'ironmen': [46, 8, 12, 12, 6, 58]} \n",
      "\n",
      "       groups  ironmen\n",
      "0  Modern Web       46\n",
      "1      DevOps        8\n",
      "2       Cloud       12\n",
      "3    Big Data       12\n",
      "4    Security        6\n",
      "5       自我挑戰組       58\n",
      "<class 'pandas.core.frame.DataFrame'>\n",
      "\n",
      "\n",
      "符合大於10的有\n",
      "        groups  ironmen\n",
      "0  Modern Web       46\n",
      "2       Cloud       12\n",
      "3    Big Data       12\n",
      "5       自我挑戰組       58\n"
     ]
    }
   ],
   "source": [
    "import pandas as pd\n",
    "groups = [\"Modern Web\", \"DevOps\", \"Cloud\", \"Big Data\", \n",
    "\"Security\", \"自我挑戰組\"]\n",
    "ironmen = [46, 8, 12, 12, 6, 58]\n",
    "\n",
    "ironmen_dict = {\"groups\": groups,\"ironmen\": ironmen}\n",
    "\n",
    "ironmen_df = pd.DataFrame(ironmen_dict)\n",
    "\n",
    "print(ironmen_dict ,'\\n')\n",
    "print(ironmen_df) # 看看資料框的外觀\n",
    "print(type(ironmen_df)) # pandas.core.frame.DataFrame\n",
    "\n",
    "print(\"\\n\\n符合大於10的有\\n\",ironmen_df[ironmen_df.loc[:,\"ironmen\"] > 10]) # 選出鐵人數超過 10 的 data frame"
   ]
  },
  {
   "cell_type": "code",
   "execution_count": 61,
   "metadata": {},
   "outputs": [
    {
     "name": "stdout",
     "output_type": "stream",
     "text": [
      "   col1  col2\n",
      "0     1     3\n",
      "1     2     4\n"
     ]
    }
   ],
   "source": [
    "my_2d_array = np.array([[1, 3],\n",
    "[2, 4]\n",
    "])\n",
    "my_df = pd.DataFrame(my_2d_array, columns = [\"col1\", \"col2\"])\n",
    "print(my_df)\n"
   ]
  },
  {
   "cell_type": "code",
   "execution_count": 67,
   "metadata": {},
   "outputs": [
    {
     "name": "stdout",
     "output_type": "stream",
     "text": [
      "(6, 2)\n",
      "---\n",
      "         ironmen\n",
      "count   6.000000\n",
      "mean   23.666667\n",
      "std    22.393451\n",
      "min     6.000000\n",
      "25%     9.000000\n",
      "50%    12.000000\n",
      "75%    37.500000\n",
      "max    58.000000\n",
      "---\n",
      "       groups  ironmen\n",
      "0  Modern Web       46\n",
      "1      DevOps        8\n",
      "2       Cloud       12\n",
      "3    Big Data       12\n",
      "---\n",
      "     groups  ironmen\n",
      "3  Big Data       12\n",
      "4  Security        6\n",
      "5     自我挑戰組       58\n",
      "---\n",
      "Index(['groups', 'ironmen'], dtype='object')\n",
      "---\n",
      "RangeIndex(start=0, stop=6, step=1)\n"
     ]
    }
   ],
   "source": [
    "print(ironmen_df.shape) # 回傳列數與欄數\n",
    "print(\"---\")\n",
    "print(ironmen_df.describe()) # 回傳描述性統計\n",
    "print(\"---\")\n",
    "print(ironmen_df.head(4)) # 回傳前三筆觀測值\n",
    "print(\"---\")\n",
    "print(ironmen_df.tail(3)) # 回傳後三筆觀測值\n",
    "print(\"---\")\n",
    "print(ironmen_df.columns) # 回傳欄位名稱\n",
    "print(\"---\")\n",
    "print(ironmen_df.index) # 回傳 index\n"
   ]
  },
  {
   "cell_type": "code",
   "execution_count": null,
   "metadata": {},
   "outputs": [],
   "source": []
  }
 ],
 "metadata": {
  "kernelspec": {
   "display_name": "Python 3",
   "language": "python",
   "name": "python3"
  },
  "language_info": {
   "codemirror_mode": {
    "name": "ipython",
    "version": 3
   },
   "file_extension": ".py",
   "mimetype": "text/x-python",
   "name": "python",
   "nbconvert_exporter": "python",
   "pygments_lexer": "ipython3",
   "version": "3.8.5"
  }
 },
 "nbformat": 4,
 "nbformat_minor": 4
}
