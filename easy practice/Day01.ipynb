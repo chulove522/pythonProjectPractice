{
 "cells": [
  {
   "cell_type": "code",
   "execution_count": 18,
   "metadata": {},
   "outputs": [],
   "source": [
    "import numpy as np\n",
    "import matplotlib.pyplot as plt\n",
    "import sympy"
   ]
  },
  {
   "cell_type": "code",
   "execution_count": 19,
   "metadata": {},
   "outputs": [],
   "source": [
    "from sympy import *"
   ]
  },
  {
   "cell_type": "code",
   "execution_count": 50,
   "metadata": {},
   "outputs": [
    {
     "name": "stdout",
     "output_type": "stream",
     "text": [
      "[array([0, 1, 2, 3, 4]), array([5, 6, 7, 8, 9]), array([10, 11, 12, 13, 14])]\n",
      "[[0, 1, 2, 3, 4], [5, 6, 7, 8, 9], [10, 11, 12, 13, 14]]\n"
     ]
    }
   ],
   "source": [
    "#簡答題\n",
    "print(list(a)) #只轉第一層\n",
    "print(a.tolist()) #全部都轉list"
   ]
  },
  {
   "cell_type": "code",
   "execution_count": 55,
   "metadata": {},
   "outputs": [
    {
     "name": "stdout",
     "output_type": "stream",
     "text": [
      "[[ 0  1  2  3  4]\n",
      " [ 5  6  7  8  9]\n",
      " [10 11 12 13 14]]\n",
      "<class 'numpy.ndarray'>\n",
      "2\n",
      "(3, 5)\n",
      "15\n",
      "int32\n",
      "4\n",
      "<memory at 0x00000176ADA81C70>\n"
     ]
    }
   ],
   "source": [
    "#作業2\n",
    "a=np.arange(15).reshape(3,5)\n",
    "print(a)\n",
    "print(type(a))\n",
    "\n",
    "print(a.ndim) #rank\n",
    "print(a.shape) #形狀\n",
    "print(a.size) #就是size\n",
    "print(a.dtype) #int\n",
    "print(a.itemsize) #complex32类型元素的itemsize值为4=(32/8)\n",
    "print(a.data) #buffer"
   ]
  },
  {
   "cell_type": "code",
   "execution_count": 59,
   "metadata": {},
   "outputs": [
    {
     "name": "stdout",
     "output_type": "stream",
     "text": [
      "[3 9 1 3 9 9]\n",
      "1\n",
      "(6,)\n",
      "6\n",
      "int32\n",
      "4\n",
      "<memory at 0x00000176ADB6A340>\n"
     ]
    }
   ],
   "source": [
    "b=np.random.randint(10,size=6)\n",
    "print(b)\n",
    "print(b.ndim) #rank\n",
    "print(b.shape) #形狀\n",
    "print(b.size) #就是size\n",
    "print(b.dtype) #int\n",
    "print(b.itemsize) #complex32类型元素的itemsize值为4=(32/8)\n",
    "print(b.data) #buffer"
   ]
  },
  {
   "cell_type": "code",
   "execution_count": 62,
   "metadata": {},
   "outputs": [
    {
     "name": "stdout",
     "output_type": "stream",
     "text": [
      "[[1 7 6 3]\n",
      " [1 1 4 0]\n",
      " [3 1 1 8]]\n",
      "2\n",
      "(3, 4)\n",
      "12\n",
      "int32\n",
      "4\n",
      "<memory at 0x00000176ADB3F040>\n"
     ]
    }
   ],
   "source": [
    "c=np.random.randint(10,size=(3,4)) #3x4矩陣\n",
    "\n",
    "print(c)\n",
    "print(c.ndim)\n",
    "print(c.shape)\n",
    "print(c.size)\n",
    "print(c.dtype)\n",
    "print(c.itemsize)\n",
    "print(c.data)"
   ]
  },
  {
   "cell_type": "code",
   "execution_count": 63,
   "metadata": {},
   "outputs": [
    {
     "name": "stdout",
     "output_type": "stream",
     "text": [
      "[[[5 4]\n",
      "  [5 5]\n",
      "  [0 6]]\n",
      "\n",
      " [[6 4]\n",
      "  [9 4]\n",
      "  [5 5]]]\n",
      "3\n",
      "(2, 3, 2)\n",
      "12\n",
      "int32\n",
      "4\n",
      "<memory at 0x00000176ADB0D5E0>\n"
     ]
    }
   ],
   "source": [
    "d=np.random.randint(10,size=(2,3,2)) #2份3x2矩陣\n",
    "\n",
    "print(d)\n",
    "print(d.ndim)\n",
    "print(d.shape)\n",
    "print(d.size)\n",
    "print(d.dtype)\n",
    "print(d.itemsize)\n",
    "print(d.data)"
   ]
  },
  {
   "cell_type": "code",
   "execution_count": 64,
   "metadata": {},
   "outputs": [
    {
     "name": "stdout",
     "output_type": "stream",
     "text": [
      "[5 7 4 3 7]\n",
      "[5, 7, 4, 3, 7]\n"
     ]
    }
   ],
   "source": [
    "e = np.random.randint(10,size=5)\n",
    "\n",
    "print(e)\n",
    "print(e.tolist())"
   ]
  },
  {
   "cell_type": "code",
   "execution_count": 85,
   "metadata": {},
   "outputs": [
    {
     "name": "stdout",
     "output_type": "stream",
     "text": [
      "[[0, 1, 2, 3, 4], [5, 6, 7, 8, 9], [10, 11, 12, 13, 14]]\n",
      "[3, 9, 1, 3, 9, 9]\n",
      "[[1, 7, 6, 3], [1, 1, 4, 0], [3, 1, 1, 8]]\n"
     ]
    }
   ],
   "source": [
    "#作業3\n",
    "def tolist(*iterable):\n",
    "    for it in iterable:\n",
    "        return it.tolist()\n",
    "    \n",
    "print(tolist(a))\n",
    "print(tolist(b))\n",
    "print(tolist(c))"
   ]
  },
  {
   "cell_type": "code",
   "execution_count": null,
   "metadata": {},
   "outputs": [],
   "source": [
    "#作業結束"
   ]
  },
  {
   "cell_type": "code",
   "execution_count": null,
   "metadata": {},
   "outputs": [],
   "source": []
  },
  {
   "cell_type": "code",
   "execution_count": 32,
   "metadata": {},
   "outputs": [
    {
     "data": {
      "text/plain": [
       "array([1. , 1.5, 2. , 2.5, 3. , 3.5, 4. , 4.5, 5. ])"
      ]
     },
     "execution_count": 32,
     "metadata": {},
     "output_type": "execute_result"
    }
   ],
   "source": [
    "np.linspace(1,5,num=9)"
   ]
  }
 ],
 "metadata": {
  "kernelspec": {
   "display_name": "Python 3",
   "language": "python",
   "name": "python3"
  },
  "language_info": {
   "codemirror_mode": {
    "name": "ipython",
    "version": 3
   },
   "file_extension": ".py",
   "mimetype": "text/x-python",
   "name": "python",
   "nbconvert_exporter": "python",
   "pygments_lexer": "ipython3",
   "version": "3.8.5"
  },
  "widgets": {
   "application/vnd.jupyter.widget-state+json": {
    "state": {},
    "version_major": 2,
    "version_minor": 0
   }
  }
 },
 "nbformat": 4,
 "nbformat_minor": 4
}
