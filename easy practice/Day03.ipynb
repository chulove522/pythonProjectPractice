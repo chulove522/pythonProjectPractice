{
 "cells": [
  {
   "cell_type": "code",
   "execution_count": 2,
   "metadata": {},
   "outputs": [
    {
     "name": "stdout",
     "output_type": "stream",
     "text": [
      "[10 15 20 25]\n",
      "[0. 1. 2.]\n",
      "[  1.  10. 100.]\n",
      "[[ 0.1774849  -0.27080373]\n",
      " [ 1.14501812  0.14099467]\n",
      " [-0.7658267  -0.14361385]]\n",
      "[[0.11322573 0.28566332]\n",
      " [0.08180303 0.64907366]\n",
      " [0.45093464 0.11193624]]\n",
      "[[0 6]\n",
      " [4 9]\n",
      " [5 1]]\n"
     ]
    }
   ],
   "source": [
    "import numpy as np\n",
    "\n",
    "#print(np.array([1,2,3])) #array[1,2,3]\n",
    "\n",
    "#print(np.array([1,2,3.0]))# array([ 1.,  2.,  3.])\n",
    "\n",
    "#print(np.array(list({0:123 , 1:456}.items())))# array([[  0 123]  [  1 456]])\n",
    "\n",
    "#print(np.zeros((2,3)))\n",
    "#print(np.ones((2,3)))\n",
    "#print(np.full((2,3), 9))\n",
    "\n",
    "#固定長度的等差序列\n",
    "print(np.arange( 10, 30 , 5))  # 等差 = 5\n",
    "# array([10, 15, 20, 25])\n",
    "\n",
    "#固定區間的等差序列\n",
    "print(np.linspace(0,2,3))  #(2-0+1)/3 = 1.\n",
    "# array([0. 1. 2.])\n",
    "\n",
    "#等比序列\n",
    "print(np.logspace( 0,2,3))\n",
    "# array([1. 10. 100.])   #log100 =3\n",
    "\n",
    "#組固定大小的亂數：\n",
    "\n",
    "from numpy.random import default_rng\n",
    "rng =default_rng()\n",
    "normal = rng.standard_normal((3,2))\n",
    "random = rng.random((3,2))\n",
    "integers = rng.integers(0,10,size=(3,2))\n",
    "print(normal)\n",
    "print(random) \n",
    "print(integers)\n",
    "\n",
    "\n",
    "#NumPy 結構化陣列 (Structured Arrays)\n",
    "dt = np.dtype({'names' :('name' , 'num1' , 'num2' , 'true') , \n",
    "                            'formats':((np.str_,5) , np.int32 , int , 'U3')\n",
    "})\n",
    "\n",
    "#b= np.genfromtxt (\"structured.txt\" , delimiter=',' , dtype=dt)\n",
    "#error\n",
    "#print(b)"
   ]
  },
  {
   "cell_type": "code",
   "execution_count": 35,
   "metadata": {},
   "outputs": [
    {
     "name": "stdout",
     "output_type": "stream",
     "text": [
      "[0 0 0 0]\n",
      "[('name', '<U10'), ('age', '<i4'), ('weight', '<f8'), ('hello', '<U10')]\n",
      "[('amy',  50, 789., 'hello!') ('john', 120, 789., 'hello!')\n",
      " ('amy',  50, 789., 'hello!') ('amy',  50, 789., 'hello!')]\n",
      "['amy' 'john' 'amy' 'amy']\n",
      "('amy', 50, 789., 'hello!')\n",
      "john\n",
      "['john']\n"
     ]
    }
   ],
   "source": [
    "z = np.zeros(4, dtype=int)\n",
    "print(z)\n",
    "\n",
    "data = np.zeros(4, \n",
    "                dtype={'names':('name','age','weight','hello'),\n",
    "                      'formats':('U10','i4','f8','U10')})\n",
    "print(data.dtype)\n",
    "\n",
    "data['name']= 'amy'\n",
    "data[1]['name'] = 'john'\n",
    "data['age']=50\n",
    "data[1]['age'] = 120\n",
    "data['weight']=789\n",
    "data['hello']='hello!'\n",
    "print(data)\n",
    "print(data['name'])\n",
    "print(data[0])\n",
    "print(data[1]['name'])\n",
    "print(data[ data['age']>100 ]['name'])"
   ]
  },
  {
   "cell_type": "code",
   "execution_count": 52,
   "metadata": {},
   "outputs": [
    {
     "name": "stdout",
     "output_type": "stream",
     "text": [
      "[('Chloe', 11, 14, 'Y') ('Charl', 12, 15, 'Y') ('Clara', 13, 16, 'N')]\n",
      "['Chloe' 'Charl' 'Clara']\n"
     ]
    }
   ],
   "source": [
    "dt = np.dtype({'names' :('name' , 'num1' , 'num2' , 'true') , \n",
    "            'formats':((np.str_,5) , np.int32 , int , 'U3')\n",
    "})\n",
    "\n",
    "c=np.zeros(3, dtype=dt)\n",
    "\n",
    "#可以自訂名稱\n",
    "name = ['Chloe', 'Charlotte', 'Clara']\n",
    "num_1 = [11, 12, 13]\n",
    "num_2 = [14, 15, 16]\n",
    "check = ['Y', 'Y', 'N']\n",
    "\n",
    "#統一設定成自定的\n",
    "c['name'] = name\n",
    "c['num1'] = num_1\n",
    "c['num2'] = num_2\n",
    "c['true'] = check\n",
    "\n",
    "print(c)\n",
    "\n",
    "#RecordArray 與 Structured Array 非常類似\n",
    "c_rec = c.view(np.recarray)\n",
    "print(c_rec.name)"
   ]
  },
  {
   "cell_type": "code",
   "execution_count": 93,
   "metadata": {},
   "outputs": [
    {
     "name": "stdout",
     "output_type": "stream",
     "text": [
      "[1.  2.5 3.5 4. ]\n",
      "[1 2 3 4]\n"
     ]
    },
    {
     "data": {
      "text/plain": [
       "array([5, 9, 8, 4, 9, 4])"
      ]
     },
     "execution_count": 93,
     "metadata": {},
     "output_type": "execute_result"
    }
   ],
   "source": [
    "#簡答題1\n",
    "#zeros初始值都是0，empty初始值=e\n",
    "\n",
    "#簡答題2 使用astype\n",
    "q2 = np.array([1.,2.5,3.5,4])\n",
    "print(q2)\n",
    "\n",
    "print(q2.astype(int))\n",
    "\n",
    "#簡答題3, 限制整數的範圍介於 m - n 之間？ \n",
    "#clip 直接裁剪\n",
    "np.clip(q2,1,3)\n",
    "#或是乾脆在random時就設置範圍 (4~10)\n",
    "np.random.randint(4,10,6)"
   ]
  },
  {
   "cell_type": "code",
   "execution_count": null,
   "metadata": {},
   "outputs": [],
   "source": []
  }
 ],
 "metadata": {
  "kernelspec": {
   "display_name": "Python 3",
   "language": "python",
   "name": "python3"
  },
  "language_info": {
   "codemirror_mode": {
    "name": "ipython",
    "version": 3
   },
   "file_extension": ".py",
   "mimetype": "text/x-python",
   "name": "python",
   "nbconvert_exporter": "python",
   "pygments_lexer": "ipython3",
   "version": "3.8.5"
  }
 },
 "nbformat": 4,
 "nbformat_minor": 4
}
