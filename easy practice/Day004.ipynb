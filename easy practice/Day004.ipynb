{
 "cells": [
  {
   "cell_type": "code",
   "execution_count": 6,
   "metadata": {},
   "outputs": [
    {
     "name": "stdout",
     "output_type": "stream",
     "text": [
      "[20 31 42 53]\n",
      "[  0  30  80 150]\n",
      "[18 28 38 48]\n",
      "[2. 3. 4. 5.]\n",
      "[2 3 4 5]\n"
     ]
    }
   ],
   "source": [
    "import numpy as np\n",
    "\n",
    "a = np.array([20,30,40,50])\n",
    "b = np.arange(4)\n",
    "\n",
    "print(a + b)\n",
    "# [20 31 42 53]\n",
    "print(a * b)\n",
    "# [ 0 30 80 150] 自己對齊0123\n",
    "\n",
    "print(a-2)\n",
    "print(a/10)  #有小數點\n",
    "print((a/10).astype(int)) #整數"
   ]
  },
  {
   "cell_type": "code",
   "execution_count": 8,
   "metadata": {},
   "outputs": [
    {
     "name": "stdout",
     "output_type": "stream",
     "text": [
      "[[2 3]\n",
      " [4 5]\n",
      " [6 7]]\n"
     ]
    }
   ],
   "source": [
    "data = np.array([[1,2],[3,4],[5,6]])\n",
    "onerow = np.array([1,1])\n",
    "\n",
    "print(data+onerow)"
   ]
  },
  {
   "cell_type": "code",
   "execution_count": 16,
   "metadata": {},
   "outputs": [
    {
     "name": "stdout",
     "output_type": "stream",
     "text": [
      "[11 21 31 41]\n",
      "[11, 21, 31, 41]\n"
     ]
    }
   ],
   "source": [
    "a = np.array([10,20,30,40])\n",
    "b = []\n",
    "print(a+1)\n",
    "\n",
    "for i in a:\n",
    "    b.append(i+1)\n",
    "print(b)"
   ]
  },
  {
   "cell_type": "code",
   "execution_count": 28,
   "metadata": {},
   "outputs": [
    {
     "name": "stdout",
     "output_type": "stream",
     "text": [
      "[[1. 2.]\n",
      " [3. 4.]]\n",
      "[[5.]\n",
      " [7.]]\n",
      "[[1. 3.]\n",
      " [2. 4.]]\n",
      "[[-2.   1.5]\n",
      " [ 1.  -0.5]]\n",
      "-2.5\n",
      "[[26.]\n",
      " [38.]]\n"
     ]
    }
   ],
   "source": [
    "a = np.array([[1.0,2.0],[3.0,4.0]])\n",
    "y = np.array([[5.],[7.]])\n",
    "\n",
    "print(a)\n",
    "print(y)\n",
    "\n",
    "a = a.transpose()\n",
    "print(a)\n",
    "a = np.linalg.inv(a)  \n",
    "#matrix inverse\n",
    "print(a)\n",
    "print(np.trace(a))\n",
    "print(np.linalg.solve(a,y))"
   ]
  },
  {
   "cell_type": "code",
   "execution_count": 39,
   "metadata": {},
   "outputs": [
    {
     "data": {
      "text/plain": [
       "2.0"
      ]
     },
     "execution_count": 39,
     "metadata": {},
     "output_type": "execute_result"
    }
   ],
   "source": [
    "np.sqrt(4)\n",
    "a = np.array([[9,4],[4,16]])\n",
    "np.sqrt(a)\n",
    "\n",
    "np.e\n",
    "np.exp(1)\n",
    "np.exp(np.arange(5)) #e的次方(0~4)\n",
    "\n",
    "np.log(9)/np.log(3)\n",
    "#np.fix = 向0的方向取整數 特別\n",
    "#np.rint(round的意思)朝近的方向整數"
   ]
  },
  {
   "cell_type": "code",
   "execution_count": 42,
   "metadata": {},
   "outputs": [
    {
     "name": "stdout",
     "output_type": "stream",
     "text": [
      "[20 30 40 50]\n",
      "[1 2 3 4]\n",
      "1\n",
      "[1]\n",
      "[1 2]\n"
     ]
    }
   ],
   "source": [
    "#簡答題1\n",
    "a = np.array( [20,30,40,50] )\n",
    "b = np.array( [1,2,3,4] ) \n",
    "c = 1\n",
    "d = np.array( [1] )\n",
    "e = np.array( [1,2] ) \n",
    "print(a)\n",
    "print(b)\n",
    "print(c)\n",
    "print(d)\n",
    "print(e)"
   ]
  },
  {
   "cell_type": "code",
   "execution_count": 43,
   "metadata": {},
   "outputs": [
    {
     "name": "stdout",
     "output_type": "stream",
     "text": [
      "[ -210.  -480.  -860. -1350.]\n"
     ]
    }
   ],
   "source": [
    "#簡答題2\n",
    "print((a+b)*(-a/2))"
   ]
  },
  {
   "cell_type": "code",
   "execution_count": 55,
   "metadata": {},
   "outputs": [
    {
     "name": "stdout",
     "output_type": "stream",
     "text": [
      "1\n",
      "[0 0 0]\n"
     ]
    }
   ],
   "source": [
    "#簡答題3\n",
    "e1=np.array([1,0,0])\n",
    "e2=np.array([1,0,0]) #.reshape(3,1)\n",
    "\n",
    "print(np.dot(e1,e2))\n",
    "print(np.cross(e1,e2))\n",
    "#6*1的外積好像沒辦法用cross計算耶，因為6維空間無法定義?"
   ]
  },
  {
   "cell_type": "code",
   "execution_count": null,
   "metadata": {},
   "outputs": [],
   "source": []
  }
 ],
 "metadata": {
  "kernelspec": {
   "display_name": "Python 3",
   "language": "python",
   "name": "python3"
  },
  "language_info": {
   "codemirror_mode": {
    "name": "ipython",
    "version": 3
   },
   "file_extension": ".py",
   "mimetype": "text/x-python",
   "name": "python",
   "nbconvert_exporter": "python",
   "pygments_lexer": "ipython3",
   "version": "3.8.5"
  }
 },
 "nbformat": 4,
 "nbformat_minor": 4
}
