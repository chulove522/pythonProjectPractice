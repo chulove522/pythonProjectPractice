{
 "cells": [
  {
   "cell_type": "code",
   "execution_count": 18,
   "metadata": {},
   "outputs": [
    {
     "name": "stdout",
     "output_type": "stream",
     "text": [
      "[0 1 2 3 4]\n",
      "True\n",
      "True\n",
      "True\n",
      "True\n",
      "True\n"
     ]
    }
   ],
   "source": [
    "import numpy as np\n",
    "import sympy\n",
    "\n",
    "a = np.arange(5)\n",
    "\n",
    "print(a)\n",
    "\n",
    "print(a.dtype == 'int32')\n",
    "print(a.dtype == np.dtype('int32'))\n",
    "print(a.dtype == 'int') \n",
    "print(a.dtype == np.int)\n",
    "print(a.dtype == np.dtype('int32'))\n",
    "#都是true\n",
    "\n",
    "dt = np.dtype('i4')"
   ]
  },
  {
   "cell_type": "code",
   "execution_count": 33,
   "metadata": {},
   "outputs": [
    {
     "name": "stdout",
     "output_type": "stream",
     "text": [
      "type(a):  <class 'numpy.ndarray'>\n",
      "a.dtype:  int32\n"
     ]
    }
   ],
   "source": [
    "#作業簡答1\n",
    "print('type(a): ', type(a))  #type of a\n",
    "print('a.dtype: ', a.dtype)  #type of a's content"
   ]
  },
  {
   "cell_type": "code",
   "execution_count": 80,
   "metadata": {},
   "outputs": [
    {
     "name": "stdout",
     "output_type": "stream",
     "text": [
      "False\n",
      "False\n",
      "False\n",
      "False\n",
      "False\n",
      "False\n",
      "True\n",
      "True\n",
      "True\n",
      "True\n",
      "True\n",
      "True\n"
     ]
    }
   ],
   "source": [
    "#作業簡答2\n",
    "a = np.arange(5)\n",
    "\n",
    "def is_dtype1(a, t):\n",
    "    return(type(a) is t)\n",
    "\n",
    "def is_dtype2(a, t):\n",
    "    return type(a) == np.dtype(t)\n",
    "\n",
    "def is_dtype3(a, t):\n",
    "    return a.dtype is np.dtype(t)\n",
    "\n",
    "def is_dtype4(a, t):\n",
    "    return a.dtype == t\n",
    "\n",
    "print(is_dtype1(a , 'int'))   \n",
    "print(is_dtype1(a , np.int))  \n",
    "print(is_dtype1(a , np.dtype('int')))   \n",
    "\n",
    "print(is_dtype2(a , 'int'))   \n",
    "print(is_dtype2(a , np.int))  \n",
    "print(is_dtype2(a , np.dtype('int')))  \n",
    "\n",
    "#---以上都false---#\n",
    "\n",
    "print(is_dtype3(a , 'int'))   #true\n",
    "print(is_dtype3(a , np.int))   #true\n",
    "print(is_dtype3(a , np.dtype('int')))   #true\n",
    "\n",
    "print(is_dtype4(a , 'int'))   #true\n",
    "print(is_dtype4(a , np.int))   #true\n",
    "print(is_dtype4(a , np.dtype('int')))   #true\n",
    "\n",
    "\n",
    "#心得: 應該使用 a.dtype 才能比較\n"
   ]
  },
  {
   "cell_type": "code",
   "execution_count": null,
   "metadata": {},
   "outputs": [],
   "source": [
    "#作業簡答3: 第二第三種都不對\n"
   ]
  }
 ],
 "metadata": {
  "kernelspec": {
   "display_name": "Python 3",
   "language": "python",
   "name": "python3"
  },
  "language_info": {
   "codemirror_mode": {
    "name": "ipython",
    "version": 3
   },
   "file_extension": ".py",
   "mimetype": "text/x-python",
   "name": "python",
   "nbconvert_exporter": "python",
   "pygments_lexer": "ipython3",
   "version": "3.8.5"
  }
 },
 "nbformat": 4,
 "nbformat_minor": 4
}
